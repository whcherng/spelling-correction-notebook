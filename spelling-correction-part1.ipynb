{
 "cells": [
  {
   "cell_type": "code",
   "execution_count": 1,
   "metadata": {},
   "outputs": [
    {
     "name": "stdout",
     "output_type": "stream",
     "text": [
      "[('combat', 2)] 2\n"
     ]
    }
   ],
   "source": [
    "import spacy\n",
    "import nltk\n",
    "from nltk.metrics import edit_distance\n",
    "\n",
    "nlp = spacy.load(\"en_core_web_sm\")\n",
    "\n",
    "def openfile(path):\n",
    "    with open(path, \"r\", encoding=\"utf-8\") as file:\n",
    "        txtfile = file.read()\n",
    "\n",
    "    return txtfile\n",
    "\n",
    "def clean_corpus(txtfile):\n",
    "    doc1 = nlp(txtfile)\n",
    "    correct_word = [token.lemma_.lower() for token in doc1 if not token.is_stop and not token.is_punct]\n",
    "\n",
    "    return correct_word\n",
    "\n",
    "def word_suggestion(wrong_word, correct_word, substitution_cost=2):\n",
    "    suggest = []\n",
    "    for word in correct_word:\n",
    "        distance = edit_distance(wrong_word, word)\n",
    "        if distance <= substitution_cost:\n",
    "            suggest.append((word, distance))\n",
    "    \n",
    "    suggest.sort(key=lambda x: x[1])\n",
    "    return suggest\n",
    "        \n",
    "\n",
    "def main():\n",
    "    path = 'D:/MASTER/NLP/Assignment/output-COVID19.txt'\n",
    "    txtfile = openfile(path)\n",
    "\n",
    "    correct_word = clean_corpus(txtfile)\n",
    "    #print(correct_word)\n",
    "\n",
    "    wrong_word = \"combnatn\"\n",
    "    suggest = word_suggestion(wrong_word, correct_word)\n",
    "\n",
    "    for word, distance in suggest:\n",
    "        print(suggest,distance)\n",
    "\n",
    "\n",
    "if __name__ == \"__main__\":\n",
    "    main()"
   ]
  }
 ],
 "metadata": {
  "kernelspec": {
   "display_name": "Python 3",
   "language": "python",
   "name": "python3"
  },
  "language_info": {
   "codemirror_mode": {
    "name": "ipython",
    "version": 3
   },
   "file_extension": ".py",
   "mimetype": "text/x-python",
   "name": "python",
   "nbconvert_exporter": "python",
   "pygments_lexer": "ipython3",
   "version": "3.10.7"
  }
 },
 "nbformat": 4,
 "nbformat_minor": 2
}
