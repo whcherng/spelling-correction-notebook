{
 "cells": [
  {
   "cell_type": "markdown",
   "metadata": {},
   "source": [
    "Performing cleaning corpus using Spacy,\n",
    "create a pretrained model to avoid main function to recreate/re-clean the data everytime running"
   ]
  },
  {
   "cell_type": "code",
   "execution_count": 2,
   "metadata": {},
   "outputs": [
    {
     "name": "stdout",
     "output_type": "stream",
     "text": [
      "model file is saved at \n",
      "pretrained_model.pkl\n"
     ]
    }
   ],
   "source": [
    "import re\n",
    "import pickle\n",
    "from nltk import edit_distance, bigrams\n",
    "from nltk.probability import FreqDist, ConditionalFreqDist\n",
    "from spacy.tokenizer import Tokenizer\n",
    "from spacy.lang.en import English\n",
    "nlp = English()\n",
    "\n",
    "# Open and clean corpus\n",
    "def train_save_model(corpus_file, model_file):\n",
    "    with open(corpus_file, 'r', encoding=\"utf-8\") as f:\n",
    "        text = f.read().lower()\n",
    "    \n",
    "    # Separate punctuation, numbers and spaces/tabs from words and clean it\n",
    "    text = re.sub(r\"([.,!?'])\", r\" \\1 \", text)  # Add spaces around punctuation\n",
    "    text = re.sub(r\"[^a-zA-Z'.,!? ]\", \" \", text)  # Remove numbers/symbols\n",
    "    text = re.sub(r\"\\s+\", \" \", text)  # Remove multiple spaces / tabs into single space\n",
    "\n",
    "    tokenizer = Tokenizer(nlp.vocab)\n",
    "    tokens = tokenizer(text)\n",
    "    token_text = [token.text for token in tokens]\n",
    "\n",
    "    unigram_fd = FreqDist(token_text)\n",
    "    bigram_cfd = ConditionalFreqDist()\n",
    "    for prev, curr in bigrams(token_text):\n",
    "        bigram_cfd[prev][curr] += 1\n",
    "\n",
    "    with open(model_file, 'wb') as f:\n",
    "         pickle.dump((unigram_fd, bigram_cfd), f)\n",
    "    \n",
    "    print(\"model file is saved at \")\n",
    "    print(model_file)\n",
    "\n",
    "\n",
    "corpus_file = 'output-corpus.txt'  # Update with the corpus path\n",
    "model_file = 'pretrained_model.pkl' # Update with the model path\n",
    "train_save_model(corpus_file, model_file)"
   ]
  }
 ],
 "metadata": {
  "kernelspec": {
   "display_name": "Python 3",
   "language": "python",
   "name": "python3"
  },
  "language_info": {
   "codemirror_mode": {
    "name": "ipython",
    "version": 3
   },
   "file_extension": ".py",
   "mimetype": "text/x-python",
   "name": "python",
   "nbconvert_exporter": "python",
   "pygments_lexer": "ipython3",
   "version": "3.10.7"
  }
 },
 "nbformat": 4,
 "nbformat_minor": 2
}
