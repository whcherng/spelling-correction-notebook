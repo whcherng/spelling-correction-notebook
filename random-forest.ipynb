{
 "cells": [
  {
   "metadata": {
    "ExecuteTime": {
     "end_time": "2025-03-03T19:33:18.140063Z",
     "start_time": "2025-03-03T19:33:18.131906Z"
    }
   },
   "cell_type": "code",
   "source": [
    "import numpy as np\n",
    "import re\n",
    "import nltk\n",
    "import matplotlib.pyplot as plt\n",
    "%matplotlib inline"
   ],
   "id": "6149a8afe798dd90",
   "outputs": [],
   "execution_count": 33
  },
  {
   "metadata": {
    "ExecuteTime": {
     "end_time": "2025-03-03T19:33:18.355455Z",
     "start_time": "2025-03-03T19:33:18.149871Z"
    }
   },
   "cell_type": "code",
   "source": [
    "import pandas as pd\n",
    "\n",
    "train_dataset = pd.read_parquet('imdb-data/train-00000-of-00001.parquet')\n",
    "train_dataset.label.value_counts().plot(kind='pie', autopct='%1.0f%%')\n",
    "\n",
    "x_train = train_dataset.text.values\n",
    "x_train"
   ],
   "id": "e41806afb8e5b80c",
   "outputs": [
    {
     "data": {
      "text/plain": [
       "array(['I rented I AM CURIOUS-YELLOW from my video store because of all the controversy that surrounded it when it was first released in 1967. I also heard that at first it was seized by U.S. customs if it ever tried to enter this country, therefore being a fan of films considered \"controversial\" I really had to see this for myself.<br /><br />The plot is centered around a young Swedish drama student named Lena who wants to learn everything she can about life. In particular she wants to focus her attentions to making some sort of documentary on what the average Swede thought about certain political issues such as the Vietnam War and race issues in the United States. In between asking politicians and ordinary denizens of Stockholm about their opinions on politics, she has sex with her drama teacher, classmates, and married men.<br /><br />What kills me about I AM CURIOUS-YELLOW is that 40 years ago, this was considered pornographic. Really, the sex and nudity scenes are few and far between, even then it\\'s not shot like some cheaply made porno. While my countrymen mind find it shocking, in reality sex and nudity are a major staple in Swedish cinema. Even Ingmar Bergman, arguably their answer to good old boy John Ford, had sex scenes in his films.<br /><br />I do commend the filmmakers for the fact that any sex shown in the film is shown for artistic purposes rather than just to shock people and make money to be shown in pornographic theaters in America. I AM CURIOUS-YELLOW is a good film for anyone wanting to study the meat and potatoes (no pun intended) of Swedish cinema. But really, this film doesn\\'t have much of a plot.',\n",
       "       '\"I Am Curious: Yellow\" is a risible and pretentious steaming pile. It doesn\\'t matter what one\\'s political views are because this film can hardly be taken seriously on any level. As for the claim that frontal male nudity is an automatic NC-17, that isn\\'t true. I\\'ve seen R-rated films with male nudity. Granted, they only offer some fleeting views, but where are the R-rated films with gaping vulvas and flapping labia? Nowhere, because they don\\'t exist. The same goes for those crappy cable shows: schlongs swinging in the breeze but not a clitoris in sight. And those pretentious indie movies like The Brown Bunny, in which we\\'re treated to the site of Vincent Gallo\\'s throbbing johnson, but not a trace of pink visible on Chloe Sevigny. Before crying (or implying) \"double-standard\" in matters of nudity, the mentally obtuse should take into account one unavoidably obvious anatomical difference between men and women: there are no genitals on display when actresses appears nude, and the same cannot be said for a man. In fact, you generally won\\'t see female genitals in an American film in anything short of porn or explicit erotica. This alleged double-standard is less a double standard than an admittedly depressing ability to come to terms culturally with the insides of women\\'s bodies.',\n",
       "       \"If only to avoid making this type of film in the future. This film is interesting as an experiment but tells no cogent story.<br /><br />One might feel virtuous for sitting thru it because it touches on so many IMPORTANT issues but it does so without any discernable motive. The viewer comes away with no new perspectives (unless one comes up with one while one's mind wanders, as it will invariably do during this pointless film).<br /><br />One might better spend one's time staring out a window at a tree growing.<br /><br />\",\n",
       "       ...,\n",
       "       \"This film and it's sequel Barry Mckenzie holds his own, are the two greatest comedies to ever be produced. A great story a young Aussie bloke travels to england to claim his inheritance and meets up with his mates, who are just as loveable and innocent as he is.<br /><br />It's chock a block full of great, sayings , where else could you find someone who needs a drink so bad that he's as dry as a dead dingoes donger? great characters, top acting, and it's got great sheilas and more Fosters consumption then any other three films put together. Top notch.<br /><br />And some of the funniest songs you'll ever hear, and it's full of great celebrities. Definitely my two favourite films of all time, I watch them at least once a fortnight.\",\n",
       "       '\\'The Adventures Of Barry McKenzie\\' started life as a satirical comic strip in \\'Private Eye\\', written by Barry Humphries and based on an idea by Peter Cook. McKenzie ( \\'Bazza\\' to his friends ) is a lanky, loud, hat-wearing Australian whose two main interests in life are sex ( despite never having had any ) and Fosters lager. In 1972, he found his way to the big screen for the first of two outings. It must have been tempting for Humphries to cast himself as \\'Bazza\\', but he wisely left the job to Barry Crocker ( later to sing the theme to the television soap opera \\'Neighbours\\'! ). Humphries instead played multiple roles in true Peter Sellers fashion, most notably Bazza\\'s overbearing Aunt \\'Edna Everage\\' ( this was before she became a Dame ).<br /><br />You know this is not going to be \\'The Importance Of Being Ernest\\' when its censorship classification N.P.A. stands for \\'No Poofters Allowed\\'. Pom-hating Bazza is told by a Sydney solicitor that in order to inherit a share in his father\\'s will he must go to England to absorb British culture. With Aunt Edna in tow, he catches a Quantas flight to Hong Kong, and then on to London. An over-efficient customs officer makes Bazza pay import duties on everything he bought over there, including a suitcase full of \\'tubes of Fosters lager\\'. As he puts it: \"when it comes to fleecing you, the Poms have got the edge on the gyppos!\". A crafty taxi driver ( Bernard Spear ) maximises the fare by taking Bazza and Edna first to Stonehenge, then Scotland. The streets of London are filthy, and their hotel is a hovel run by a seedy landlord ( Spike Milligan ) who makes Bazza put pound notes in the electricity meter every twenty minutes. There is some good news for our hero though; he meets up with other Aussies in Earls Court, and Fosters is on sale in British pubs.<br /><br />What happens next is a series of comical escapades that take Bazza from starring in his own cigarette commercial, putting curry down his pants in the belief it is some form of aphrodisiac, a bizarre encounter with Dennis Price as an upper-class pervert who loves being spanked while wearing a schoolboy\\'s uniform, a Young Conservative dance in Rickmansworth to a charity rock concert where his song about \\'chundering\\' ( vomiting ) almost makes him an international star, and finally to the B.B.C. T.V. Centre where he pulls his pants down on a live talk-show hosted by the thinking man\\'s crumpet herself, Joan Bakewell. A fire breaks out, and Bazza\\'s friends come to the rescue - downing cans of Fosters, they urinate on the flames en masse.<br /><br />This is a far cry from Bruce Beresford\\'s later works - \\'Breaker Morant\\' and \\'Driving Miss Daisy\\'. On release, it was savaged by critics for being too \\'vulgar\\'. Well, yes, it is, but it is also great non-P.C. fun. \\'Bazza\\' is a disgusting creation, but his zest for life is unmistakable, you cannot help but like the guy. His various euphemisms for urinating ( \\'point Percy at the porcelain\\' ) and vomiting ( \\'the Technicolour yawn\\' ) have passed into the English language without a lot of people knowing where they came from. Other guest stars include Dick Bentley ( as a detective who chases Bazza everywhere ), Peter Cook, Julie Covington ( later to star in \\'Rock Follies\\' ), and even future arts presenter Russell Davies.<br /><br />A sequel - the wonderfully-named \\'Barry McKenzie Holds His Own - came out two years later. At its premiere, Humphries took the opportunity to blast the critics who had savaged the first film. Good for him.<br /><br />What must have been of greater concern to him, though, was the release of \\'Crocodile Dundee\\' in 1985. It also featured a lanky, hat-wearing Aussie struggling to come to terms with a foreign culture. And made tonnes more money.<br /><br />The song on the end credits ( performed by Snacka Fitzgibbon ) is magnificent. You have a love a lyric that includes the line: \"If you want to send your sister in a frenzy, introduce her to Barry McKenzie!\". Time to end this review. I have to go the dunny to shake hands with the unemployed...',\n",
       "       'The story centers around Barry McKenzie who must go to England if he wishes to claim his inheritance. Being about the grossest Aussie shearer ever to set foot outside this great Nation of ours there is something of a culture clash and much fun and games ensue. The songs of Barry McKenzie(Barry Crocker) are highlights.'],\n",
       "      dtype=object)"
      ]
     },
     "execution_count": 34,
     "metadata": {},
     "output_type": "execute_result"
    },
    {
     "data": {
      "text/plain": [
       "<Figure size 640x480 with 1 Axes>"
      ],
      "image/png": "[encoded data removed]"
     },
     "metadata": {},
     "output_type": "display_data"
    }
   ],
   "execution_count": 34
  },
  {
   "metadata": {
    "ExecuteTime": {
     "end_time": "2025-03-03T19:33:18.528278Z",
     "start_time": "2025-03-03T19:33:18.358618Z"
    }
   },
   "cell_type": "code",
   "source": [
    "test_dataset = pd.read_parquet('imdb-data/test-00000-of-00001.parquet')\n",
    "test_dataset.label.value_counts().plot(kind='pie', autopct='%1.0f%%')\n",
    "\n",
    "x_test = test_dataset.text.values\n",
    "x_test"
   ],
   "id": "b68f87c2393f60c0",
   "outputs": [
    {
     "data": {
      "text/plain": [
       "array(['I love sci-fi and am willing to put up with a lot. Sci-fi movies/TV are usually underfunded, under-appreciated and misunderstood. I tried to like this, I really did, but it is to good TV sci-fi as Babylon 5 is to Star Trek (the original). Silly prosthetics, cheap cardboard sets, stilted dialogues, CG that doesn\\'t match the background, and painfully one-dimensional characters cannot be overcome with a \\'sci-fi\\' setting. (I\\'m sure there are those of you out there who think Babylon 5 is good sci-fi TV. It\\'s not. It\\'s clichéd and uninspiring.) While US viewers might like emotion and character development, sci-fi is a genre that does not take itself seriously (cf. Star Trek). It may treat important issues, yet not as a serious philosophy. It\\'s really difficult to care about the characters here as they are not simply foolish, just missing a spark of life. Their actions and reactions are wooden and predictable, often painful to watch. The makers of Earth KNOW it\\'s rubbish as they have to always say \"Gene Roddenberry\\'s Earth...\" otherwise people would not continue watching. Roddenberry\\'s ashes must be turning in their orbit as this dull, cheap, poorly edited (watching it without advert breaks really brings this home) trudging Trabant of a show lumbers into space. Spoiler. So, kill off a main character. And then bring him back as another actor. Jeeez! Dallas all over again.',\n",
       "       \"Worth the entertainment value of a rental, especially if you like action movies. This one features the usual car chases, fights with the great Van Damme kick style, shooting battles with the 40 shell load shotgun, and even terrorist style bombs. All of this is entertaining and competently handled but there is nothing that really blows you away if you've seen your share before.<br /><br />The plot is made interesting by the inclusion of a rabbit, which is clever but hardly profound. Many of the characters are heavily stereotyped -- the angry veterans, the terrified illegal aliens, the crooked cops, the indifferent feds, the bitchy tough lady station head, the crooked politician, the fat federale who looks like he was typecast as the Mexican in a Hollywood movie from the 1940s. All passably acted but again nothing special.<br /><br />I thought the main villains were pretty well done and fairly well acted. By the end of the movie you certainly knew who the good guys were and weren't. There was an emotional lift as the really bad ones got their just deserts. Very simplistic, but then you weren't expecting Hamlet, right? The only thing I found really annoying was the constant cuts to VDs daughter during the last fight scene.<br /><br />Not bad. Not good. Passable 4.\",\n",
       "       \"its a totally average film with a few semi-alright action sequences that make the plot seem a little better and remind the viewer of the classic van dam films. parts of the plot don't make sense and seem to be added in to use up time. the end plot is that of a very basic type that doesn't leave the viewer guessing and any twists are obvious from the beginning. the end scene with the flask backs don't make sense as they are added in and seem to have little relevance to the history of van dam's character. not really worth watching again, bit disappointed in the end production, even though it is apparent it was shot on a low budget certain shots and sections in the film are of poor directed quality\",\n",
       "       ...,\n",
       "       \"I got Monster Man in a box set of three films where I mainly wanted the other two but still had a very pleasant time with it. It blends horror and comedy to reasonable effect, helped out considerably by the decent performances of Eric Jungman as the geeky lead, Justin Urich as his a hole friend and Aimee Brooks as the love interest. The film is fairly predictable and mines ideas from a host of other films, but stays fun throughout, with some good gruesome gore thrown in. Sure it doesn't measure up to the classic gory comedies, but this still does fine. Director Michael Davis even manages one or two creepy scenes, such as in the bathroom, or the bar. The film is watchable throughout if a little messily plotted and written and for me it only lost it a bit towards the end when the Monster Man of the title starts to resemble a member of Slipknot and the film tries to go more horror style but isn't twisted or convincing enough. The final moments are a trifle weak as well. Still, despite lack of much suspense and overall silliness, this is a good example of unpretentious, often gnarly splatter comedy that should endear itself to fans of the same.\",\n",
       "       \"Five minutes in, i started to feel how naff this was looking, you've got a completely unheroic hero and his overweight fool of a friend. Seen it all before, yeah right. I was getting ready to be bored out of my mind for a good few hours. This is something i have become quite used to... haven't we all. Then after a few minutes of testosterone fuelled insults and such, the truck appeared. Okay the filming techniques used to make it look fast were clumsy, but who cares! That truck is amazing! Soon however that is taken away again and we're back to the geek and his overweight friend. But now i'm satisfied that at least it won't be too terrible. I then proceed to be amazed again and again by the cleverness of the film. There are so many jokes at their expense, it's like everyone in the world is in on this except the two of them. The mind behind the makeup and effects was a genius i swear it. Believe me, if you are a man you miss so many of the jokes in this film, there is so much here that only a girl can understand.<br /><br />Brother Bob is by far the best hillbilly killer that can be found anywhere, the fact that he's sewn together just adds to the effect. There are of course some really dud science facts in here, but isn't that always the case. When our 'hero' is having a nose bleed and using the blood to lead brother Bob to his death, now that is rubbish. There is no way a nose bleed can be that bad and not mean a severed artery or something. I'm all with the use of too much blood, but that is taking it a little too far. The incest jokes are a little predictable but funny nonetheless. And the way brother bob meets his end is more than classic. Overall, this movie rules, it really breaks out of the overacted melodramatic strain of horror that we got so much of in 2003-2005. The end of this move simply could not have been better.<br /><br />This is a definite must watch for anyone who likes their horror with several side orders of gore and attitude.\",\n",
       "       'I caught this movie on the Sci-Fi channel recently. It actually turned out to be pretty decent as far as B-list horror/suspense films go. Two guys (one naive and one loud mouthed a**) take a road trip to stop a wedding but have the worst possible luck when a maniac in a freaky, make-shift tank/truck hybrid decides to play cat-and-mouse with them. Things are further complicated when they pick up a ridiculously whorish hitchhiker. What makes this film unique is that the combination of comedy and terror actually work in this movie, unlike so many others. The two guys are likable enough and there are some good chase/suspense scenes. Nice pacing and comic timing make this movie more than passable for the horror/slasher buff. Definitely worth checking out.'],\n",
       "      dtype=object)"
      ]
     },
     "execution_count": 35,
     "metadata": {},
     "output_type": "execute_result"
    },
    {
     "data": {
      "text/plain": [
       "<Figure size 640x480 with 1 Axes>"
      ],
      "image/png": "[encoded data removed]"
     },
     "metadata": {},
     "output_type": "display_data"
    }
   ],
   "execution_count": 35
  },
  {
   "metadata": {},
   "cell_type": "markdown",
   "source": "### Data Preprocessing",
   "id": "8a93d6463faf7a3"
  },
  {
   "metadata": {
    "ExecuteTime": {
     "end_time": "2025-03-03T21:51:09.527008Z",
     "start_time": "2025-03-03T19:33:18.530882Z"
    }
   },
   "cell_type": "code",
   "source": [
    "import re\n",
    "from bs4 import BeautifulSoup\n",
    "import spacy\n",
    "\n",
    "nlp = spacy.load('en_core_web_sm')\n",
    "\n",
    "def clean_text(text):\n",
    "    text = BeautifulSoup(text, 'html.parser').get_text()\n",
    "    text = re.sub(r\"[^a-zA-Z]\", ' ', text.lower())\n",
    "    doc = nlp(text)\n",
    "    \n",
    "    return ' '.join(token.lemma_ for token in doc if not token.is_stop)\n",
    "\n",
    "train_dataset['text'] = train_dataset['text'].apply(clean_text)\n",
    "test_dataset['text'] = test_dataset['text'].apply(clean_text)"
   ],
   "id": "cfa7aeb29cfb9cdb",
   "outputs": [
    {
     "name": "stderr",
     "output_type": "stream",
     "text": [
      "/Users/wonghaucherng/anaconda3/lib/python3.10/site-packages/bs4/__init__.py:435: MarkupResemblesLocatorWarning: The input looks more like a filename than markup. You may want to open this file and pass the filehandle into Beautiful Soup.\n",
      "  warnings.warn(\n"
     ]
    }
   ],
   "execution_count": 36
  },
  {
   "metadata": {
    "ExecuteTime": {
     "end_time": "2025-03-03T21:51:09.549602Z",
     "start_time": "2025-03-03T21:51:09.534400Z"
    }
   },
   "cell_type": "code",
   "source": [
    "x_train = train_dataset.text.values\n",
    "x_train"
   ],
   "id": "d2a5958dbd7c4250",
   "outputs": [
    {
     "data": {
      "text/plain": [
       "array(['rent curious yellow video store controversy surround release        hear seize u s   custom try enter country   fan film consider   controversial   plot center young swedish drama student name lena want learn life   particular want focus attention make sort documentary average swede think certain political issue vietnam war race issue united states   ask politician ordinary denizen stockholm opinion politic   sex drama teacher   classmate   married man kill curious yellow     year ago   consider pornographic     sex nudity scene far   s shoot like cheaply porno   countryman mind find shocking   reality sex nudity major staple swedish cinema   ingmar bergman   arguably answer good old boy john ford   sex scene film commend filmmaker fact sex show film show artistic purpose shock people money show pornographic theater america   curious yellow good film want study meat potato   pun intend   swedish cinema     film doesn t plot',\n",
       "       '  curious   yellow   risible pretentious steaming pile   doesn t matter s political view film hardly take seriously level   claim frontal male nudity automatic nc      isn t true   ve see r rate film male nudity   grant   offer fleeting view   r rate film gape vulvas flap labia     don t exist   go crappy cable show   schlong swinge breeze clitoris sight   pretentious indie movie like brown bunny   treat site vincent gallo s throbbing johnson   trace pink visible chloe sevigny   cry   imply    double standard   matter nudity   mentally obtuse account unavoidably obvious anatomical difference man woman   genital display actress appear nude   say man   fact   generally win t female genital american film short porn explicit erotica   allege double standard double standard admittedly depressing ability come term culturally inside woman s body',\n",
       "       'avoid make type film future   film interesting experiment tell cogent story feel virtuous sit touch important issue discernable motive   viewer come away new perspective   come s mind wander   invariably pointless film   well spend s time stare window tree grow',\n",
       "       ...,\n",
       "       'film s sequel barry mckenzie hold   great comedy produce   great story young aussie bloke travel england claim inheritance meet mate   loveable innocent s chock block great   saying    find need drink bad s dry dead dingoe donger   great character   acting   s get great sheila foster consumption film   notch funny song ll hear   s great celebrity   definitely favourite film time   watch fortnight',\n",
       "       '  adventure barry mckenzie   start life satirical comic strip   private eye    write barry humphries base idea peter cook   mckenzie     bazza   friend    lanky   loud   hat wear australian main interest life sex    despite having    foster lager          find way big screen outing   tempt humphrie cast   bazza    wisely leave job barry crocker    later sing theme television soap opera   neighbour       humphrie instead play multiple role true peter seller fashion   notably bazza s overbearing aunt   edna everage     dame    know go   importance ernest   censorship classification n p   stand   poofter allow    pom hating bazza tell sydney solicitor order inherit share father s england absorb british culture   aunt edna tow   catch quantas flight hong kong   london   efficient custom officer make bazza pay import duty buy   include suitcase   tube foster lag    put    come fleece   pom get edge gyppos     crafty taxi driver    bernard spear    maximise fare take bazza edna stonehenge   scotland   street london filthy   hotel hovel run seedy landlord    spike milligan    make bazza pound note electricity meter minute   good news hero   meet aussie earls court   foster sale british pub happen series comical escapade bazza star cigarette commercial   put curry pant belief form aphrodisiac   bizarre encounter dennis price upper class pervert loves spank wear schoolboy s uniform   young conservative dance rickmansworth charity rock concert song   chundere     vomiting    make international star   finally b b c   t v   centre pull pant live talk host think man s crumpet   joan bakewell   fire break   bazza s friend come rescue    downing can foster   urinate flame en masse far cry bruce beresford s later work     breaker morant     drive miss daisy    release   savage critic   vulgar      yes     great non p c   fun    bazza   disgusting creation   zest life unmistakable   help like guy   euphemism urinate     point percy porcelain     vomit     technicolour yawn     pass english language lot people know come   guest star include dick bentley    detective chase bazza     peter cook   julie covington    later star   rock folly      future art presenter russell davy sequel    wonderfully name   barry mckenzie hold    come year later   premiere   humphrie take opportunity blast critic savage film   good great concern     release   crocodile dundee          feature lanky   hat wear aussie struggle come term foreign culture   tonne money song end credit    perform snacka fitzgibbon    magnificent   love lyric include line    want send sister frenzy   introduce barry mckenzie     time end review   dunny shake hand unemployed   ',\n",
       "       'story center barry mckenzie england wish claim inheritance   gross aussie shearer set foot outside great nation culture clash fun game ensue   song barry mckenzie barry crocker   highlight'],\n",
       "      dtype=object)"
      ]
     },
     "execution_count": 37,
     "metadata": {},
     "output_type": "execute_result"
    }
   ],
   "execution_count": 37
  },
  {
   "metadata": {},
   "cell_type": "markdown",
   "source": [
    "### TD-IDF\n",
    "\n",
    "In the bag of words approach, each word has the same weight. The idea behind the TF-IDF approach is that the words that occur less in all the documents and more in individual documents contribute more towards classification.\n",
    "\n",
    "TF-IDF is a combination of two terms. Term frequency and Inverse Document frequency. They can be calculated as:"
   ],
   "id": "34aa9a14608c18ea"
  },
  {
   "metadata": {
    "ExecuteTime": {
     "end_time": "2025-03-03T21:51:15.136790Z",
     "start_time": "2025-03-03T21:51:09.551044Z"
    }
   },
   "cell_type": "code",
   "source": [
    "from nltk.corpus import stopwords\n",
    "from sklearn.feature_extraction.text import TfidfVectorizer\n",
    "\n",
    "vectorizer = TfidfVectorizer (max_features=2500, min_df=7, max_df=0.8, stop_words=stopwords.words('english'))\n",
    "\n",
    "vectorized_train_dataset = vectorizer.fit_transform(train_dataset['text']).toarray()\n",
    "vectorize_test_dataset = vectorizer.fit_transform(test_dataset['text']).toarray()\n",
    "\n",
    "vectorizer.fit_transform(train_dataset['text']).toarray()"
   ],
   "id": "da7dc12e234e4327",
   "outputs": [
    {
     "data": {
      "text/plain": [
       "array([[0.        , 0.        , 0.        , ..., 0.        , 0.        ,\n",
       "        0.        ],\n",
       "       [0.        , 0.10498519, 0.        , ..., 0.        , 0.        ,\n",
       "        0.        ],\n",
       "       [0.        , 0.        , 0.        , ..., 0.        , 0.        ,\n",
       "        0.        ],\n",
       "       ...,\n",
       "       [0.        , 0.        , 0.        , ..., 0.        , 0.        ,\n",
       "        0.        ],\n",
       "       [0.        , 0.        , 0.        , ..., 0.        , 0.        ,\n",
       "        0.        ],\n",
       "       [0.        , 0.        , 0.        , ..., 0.        , 0.        ,\n",
       "        0.        ]])"
      ]
     },
     "execution_count": 38,
     "metadata": {},
     "output_type": "execute_result"
    }
   ],
   "execution_count": 38
  },
  {
   "metadata": {},
   "cell_type": "markdown",
   "source": "### Model Training",
   "id": "e345d430287a441c"
  },
  {
   "metadata": {
    "ExecuteTime": {
     "end_time": "2025-03-03T22:07:13.721058Z",
     "start_time": "2025-03-03T21:51:15.137724Z"
    }
   },
   "cell_type": "code",
   "source": [
    "from sklearn.ensemble import RandomForestClassifier\n",
    "\n",
    "text_classifier = RandomForestClassifier(n_estimators=200, random_state=0)\n",
    "text_classifier.fit(vectorized_train_dataset, train_dataset['label'])"
   ],
   "id": "7bf8905fab8f828f",
   "outputs": [
    {
     "data": {
      "text/plain": [
       "RandomForestClassifier(n_estimators=200, random_state=0)"
      ],
      "text/html": [
       "<style>#sk-container-id-2 {color: black;background-color: white;}#sk-container-id-2 pre{padding: 0;}#sk-container-id-2 div.sk-toggleable {background-color: white;}#sk-container-id-2 label.sk-toggleable__label {cursor: pointer;display: block;width: 100%;margin-bottom: 0;padding: 0.3em;box-sizing: border-box;text-align: center;}#sk-container-id-2 label.sk-toggleable__label-arrow:before {content: \"▸\";float: left;margin-right: 0.25em;color: #696969;}#sk-container-id-2 label.sk-toggleable__label-arrow:hover:before {color: black;}#sk-container-id-2 div.sk-estimator:hover label.sk-toggleable__label-arrow:before {color: black;}#sk-container-id-2 div.sk-toggleable__content {max-height: 0;max-width: 0;overflow: hidden;text-align: left;background-color: #f0f8ff;}#sk-container-id-2 div.sk-toggleable__content pre {margin: 0.2em;color: black;border-radius: 0.25em;background-color: #f0f8ff;}#sk-container-id-2 input.sk-toggleable__control:checked~div.sk-toggleable__content {max-height: 200px;max-width: 100%;overflow: auto;}#sk-container-id-2 input.sk-toggleable__control:checked~label.sk-toggleable__label-arrow:before {content: \"▾\";}#sk-container-id-2 div.sk-estimator input.sk-toggleable__control:checked~label.sk-toggleable__label {background-color: #d4ebff;}#sk-container-id-2 div.sk-label input.sk-toggleable__control:checked~label.sk-toggleable__label {background-color: #d4ebff;}#sk-container-id-2 input.sk-hidden--visually {border: 0;clip: rect(1px 1px 1px 1px);clip: rect(1px, 1px, 1px, 1px);height: 1px;margin: -1px;overflow: hidden;padding: 0;position: absolute;width: 1px;}#sk-container-id-2 div.sk-estimator {font-family: monospace;background-color: #f0f8ff;border: 1px dotted black;border-radius: 0.25em;box-sizing: border-box;margin-bottom: 0.5em;}#sk-container-id-2 div.sk-estimator:hover {background-color: #d4ebff;}#sk-container-id-2 div.sk-parallel-item::after {content: \"\";width: 100%;border-bottom: 1px solid gray;flex-grow: 1;}#sk-container-id-2 div.sk-label:hover label.sk-toggleable__label {background-color: #d4ebff;}#sk-container-id-2 div.sk-serial::before {content: \"\";position: absolute;border-left: 1px solid gray;box-sizing: border-box;top: 0;bottom: 0;left: 50%;z-index: 0;}#sk-container-id-2 div.sk-serial {display: flex;flex-direction: column;align-items: center;background-color: white;padding-right: 0.2em;padding-left: 0.2em;position: relative;}#sk-container-id-2 div.sk-item {position: relative;z-index: 1;}#sk-container-id-2 div.sk-parallel {display: flex;align-items: stretch;justify-content: center;background-color: white;position: relative;}#sk-container-id-2 div.sk-item::before, #sk-container-id-2 div.sk-parallel-item::before {content: \"\";position: absolute;border-left: 1px solid gray;box-sizing: border-box;top: 0;bottom: 0;left: 50%;z-index: -1;}#sk-container-id-2 div.sk-parallel-item {display: flex;flex-direction: column;z-index: 1;position: relative;background-color: white;}#sk-container-id-2 div.sk-parallel-item:first-child::after {align-self: flex-end;width: 50%;}#sk-container-id-2 div.sk-parallel-item:last-child::after {align-self: flex-start;width: 50%;}#sk-container-id-2 div.sk-parallel-item:only-child::after {width: 0;}#sk-container-id-2 div.sk-dashed-wrapped {border: 1px dashed gray;margin: 0 0.4em 0.5em 0.4em;box-sizing: border-box;padding-bottom: 0.4em;background-color: white;}#sk-container-id-2 div.sk-label label {font-family: monospace;font-weight: bold;display: inline-block;line-height: 1.2em;}#sk-container-id-2 div.sk-label-container {text-align: center;}#sk-container-id-2 div.sk-container {/* jupyter's `normalize.less` sets `[hidden] { display: none; }` but bootstrap.min.css set `[hidden] { display: none !important; }` so we also need the `!important` here to be able to override the default hidden behavior on the sphinx rendered scikit-learn.org. See: https://github.com/scikit-learn/scikit-learn/issues/21755 */display: inline-block !important;position: relative;}#sk-container-id-2 div.sk-text-repr-fallback {display: none;}</style><div id=\"sk-container-id-2\" class=\"sk-top-container\"><div class=\"sk-text-repr-fallback\"><pre>RandomForestClassifier(n_estimators=200, random_state=0)</pre><b>In a Jupyter environment, please rerun this cell to show the HTML representation or trust the notebook. <br />On GitHub, the HTML representation is unable to render, please try loading this page with nbviewer.org.</b></div><div class=\"sk-container\" hidden><div class=\"sk-item\"><div class=\"sk-estimator sk-toggleable\"><input class=\"sk-toggleable__control sk-hidden--visually\" id=\"sk-estimator-id-2\" type=\"checkbox\" checked><label for=\"sk-estimator-id-2\" class=\"sk-toggleable__label sk-toggleable__label-arrow\">RandomForestClassifier</label><div class=\"sk-toggleable__content\"><pre>RandomForestClassifier(n_estimators=200, random_state=0)</pre></div></div></div></div></div>"
      ]
     },
     "execution_count": 39,
     "metadata": {},
     "output_type": "execute_result"
    }
   ],
   "execution_count": 39
  },
  {
   "metadata": {},
   "cell_type": "markdown",
   "source": "### Modal Testing",
   "id": "2d9c75d5e620049"
  },
  {
   "metadata": {
    "ExecuteTime": {
     "end_time": "2025-03-03T22:07:16.274002Z",
     "start_time": "2025-03-03T22:07:13.722893Z"
    }
   },
   "cell_type": "code",
   "source": "predictions = text_classifier.predict(vectorize_test_dataset)",
   "id": "6a1ee38404f968d",
   "outputs": [],
   "execution_count": 40
  },
  {
   "metadata": {},
   "cell_type": "markdown",
   "source": "### Confusion Matrix",
   "id": "657579566759d82"
  },
  {
   "metadata": {
    "ExecuteTime": {
     "end_time": "2025-03-03T22:07:16.310621Z",
     "start_time": "2025-03-03T22:07:16.275233Z"
    }
   },
   "cell_type": "code",
   "source": [
    "from sklearn.metrics import classification_report, confusion_matrix, accuracy_score\n",
    "\n",
    "print(confusion_matrix(test_dataset['label'],predictions))\n",
    "print(classification_report(test_dataset['label'],predictions))\n",
    "print(accuracy_score(test_dataset['label'], predictions))"
   ],
   "id": "719a6934306ed2b4",
   "outputs": [
    {
     "name": "stdout",
     "output_type": "stream",
     "text": [
      "[[6110 6390]\n",
      " [4606 7894]]\n",
      "              precision    recall  f1-score   support\n",
      "\n",
      "           0       0.57      0.49      0.53     12500\n",
      "           1       0.55      0.63      0.59     12500\n",
      "\n",
      "    accuracy                           0.56     25000\n",
      "   macro avg       0.56      0.56      0.56     25000\n",
      "weighted avg       0.56      0.56      0.56     25000\n",
      "\n",
      "0.56016\n"
     ]
    }
   ],
   "execution_count": 41
  }
 ],
 "metadata": {
  "kernelspec": {
   "display_name": "Python 3",
   "language": "python",
   "name": "python3"
  },
  "language_info": {
   "codemirror_mode": {
    "name": "ipython",
    "version": 2
   },
   "file_extension": ".py",
   "mimetype": "text/x-python",
   "name": "python",
   "nbconvert_exporter": "python",
   "pygments_lexer": "ipython2",
   "version": "2.7.6"
  }
 },
 "nbformat": 4,
 "nbformat_minor": 5
}
